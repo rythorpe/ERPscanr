{
 "cells": [
  {
   "cell_type": "markdown",
   "metadata": {},
   "source": [
    "# Network Analysis of ERP Components\n",
    "\n",
    "Analyze the network of ERP papers - based on connections of papers that discuss multiple ERPs.\n",
    "\n",
    "This network analysis is based on inferring connections based on articles that discuss multiple components (based on matching article IDs). "
   ]
  },
  {
   "cell_type": "code",
   "execution_count": 1,
   "metadata": {},
   "outputs": [],
   "source": [
    "%matplotlib inline\n",
    "\n",
    "import numpy as np\n",
    "import matplotlib.pyplot as plt\n",
    "\n",
    "import networkx as nx\n",
    "\n",
    "from lisc.utils import SCDB, load_object"
   ]
  },
  {
   "cell_type": "code",
   "execution_count": 2,
   "metadata": {},
   "outputs": [],
   "source": [
    "import seaborn as sns\n",
    "sns.set_context('talk')"
   ]
  },
  {
   "cell_type": "code",
   "execution_count": 3,
   "metadata": {},
   "outputs": [],
   "source": [
    "# Import custom project code\n",
    "import sys\n",
    "sys.path.append('../code')\n",
    "from plts import plot_count_hist, plot_network"
   ]
  },
  {
   "cell_type": "markdown",
   "metadata": {},
   "source": [
    "## Setup"
   ]
  },
  {
   "cell_type": "code",
   "execution_count": 4,
   "metadata": {},
   "outputs": [],
   "source": [
    "# Settings\n",
    "SAVE_FIG = False\n",
    "SAVE_EXT = '.pdf'"
   ]
  },
  {
   "cell_type": "code",
   "execution_count": 5,
   "metadata": {},
   "outputs": [],
   "source": [
    "# Set the name of the file to load\n",
    "name = 'erp' # 'erps', 'test'\n",
    "\n",
    "# Set the minimum number of papers for including a component\n",
    "n_min = 150"
   ]
  },
  {
   "cell_type": "code",
   "execution_count": 6,
   "metadata": {},
   "outputs": [],
   "source": [
    "# Set the file locations\n",
    "db = SCDB('../data/')\n",
    "figs_dir = '../data/figures/network/'"
   ]
  },
  {
   "cell_type": "code",
   "execution_count": 7,
   "metadata": {},
   "outputs": [],
   "source": [
    "# Load data\n",
    "words = load_object('words_' + name, directory=db, reload_results=True)"
   ]
  },
  {
   "cell_type": "code",
   "execution_count": 8,
   "metadata": {},
   "outputs": [],
   "source": [
    "# Drop components without enough articles\n",
    "words.drop_data(n_min)"
   ]
  },
  {
   "cell_type": "code",
   "execution_count": 9,
   "metadata": {},
   "outputs": [
    {
     "name": "stdout",
     "output_type": "stream",
     "text": [
      "Number of components kept: 11\n"
     ]
    }
   ],
   "source": [
    "# Check how many ERP components were kept\n",
    "print('Number of components kept: {}'.format(len(words.results)))"
   ]
  },
  {
   "cell_type": "markdown",
   "metadata": {},
   "source": [
    "## Set up Network"
   ]
  },
  {
   "cell_type": "code",
   "execution_count": 10,
   "metadata": {},
   "outputs": [],
   "source": [
    "# Settings for setting up the network\n",
    "normalize = True\n",
    "seed = 28"
   ]
  },
  {
   "cell_type": "code",
   "execution_count": 11,
   "metadata": {},
   "outputs": [],
   "source": [
    "# Calculate the connections between components, based on overlapping articles\n",
    "overlaps = np.zeros(shape=(words.n_terms, words.n_terms))\n",
    "for ii, ei in enumerate(words.labels):\n",
    "    for jj, ej in enumerate(words.labels):\n",
    "        if ii == jj: continue\n",
    "        overlaps[ii, jj] = len(set(words[ei].ids) & set(words[ej].ids))\n",
    "        if normalize:\n",
    "            overlaps[ii, jj] = overlaps[ii, jj] / len(set(words[ei].ids + words[ej].ids))"
   ]
  },
  {
   "cell_type": "code",
   "execution_count": 12,
   "metadata": {},
   "outputs": [
    {
     "data": {
      "text/plain": [
       "<matplotlib.image.AxesImage at 0x7f88d6c6a700>"
      ]
     },
     "execution_count": 12,
     "metadata": {},
     "output_type": "execute_result"
    },
    {
     "data": {
      "image/png": "[encoded data removed]",
      "text/plain": [
       "<Figure size 432x288 with 1 Axes>"
      ]
     },
     "metadata": {
      "needs_background": "light"
     },
     "output_type": "display_data"
    }
   ],
   "source": [
    "# Plot the weights matrix\n",
    "plt.imshow(overlaps)"
   ]
  },
  {
   "cell_type": "code",
   "execution_count": 13,
   "metadata": {},
   "outputs": [],
   "source": [
    "# Initialize network graph, and add the nodes\n",
    "network = nx.Graph()\n",
    "for ind, erp in enumerate(words.labels):\n",
    "    network.add_node(ind)"
   ]
  },
  {
   "cell_type": "code",
   "execution_count": 14,
   "metadata": {},
   "outputs": [],
   "source": [
    "# Add weighted edges between nodes\n",
    "for ii in range(words.n_terms):\n",
    "    for jj in range(words.n_terms):\n",
    "        if ii == jj: continue\n",
    "        if overlaps[ii, jj] > 0:\n",
    "            network.add_edge(ii, jj, weight=overlaps[ii, jj])"
   ]
  },
  {
   "cell_type": "code",
   "execution_count": 15,
   "metadata": {},
   "outputs": [],
   "source": [
    "# Collect the labels for each node\n",
    "labels = {ind : label for ind, label in enumerate(words.labels)}"
   ]
  },
  {
   "cell_type": "code",
   "execution_count": 16,
   "metadata": {},
   "outputs": [],
   "source": [
    "# Check for nodes with no connections, and set to drop\n",
    "no_edges = [key for key, val in network.degree if val <= 1]"
   ]
  },
  {
   "cell_type": "code",
   "execution_count": 17,
   "metadata": {},
   "outputs": [
    {
     "name": "stdout",
     "output_type": "stream",
     "text": [
      "Disconnected nodes to drop:  \n"
     ]
    }
   ],
   "source": [
    "# Check the nodes that are disconnected from the network\n",
    "drop_labels = [labels[ind] for ind in no_edges]\n",
    "print('Disconnected nodes to drop: ', ' , '.join(drop_labels))"
   ]
  },
  {
   "cell_type": "code",
   "execution_count": 18,
   "metadata": {},
   "outputs": [],
   "source": [
    "# Drop disconnected ERPs: components without connections to the network are dropped\n",
    "for ind in [words.get_index(erp) for erp in drop_labels]:\n",
    "    network.remove_node(ind)\n",
    "    labels.pop(ind)"
   ]
  },
  {
   "cell_type": "code",
   "execution_count": 19,
   "metadata": {},
   "outputs": [
    {
     "name": "stdout",
     "output_type": "stream",
     "text": [
      "Number of nodes in the network: 11\n"
     ]
    }
   ],
   "source": [
    "# Check the number of nodes left in the network\n",
    "print('Number of nodes in the network: {}'.format(len(network.nodes)))"
   ]
  },
  {
   "cell_type": "markdown",
   "metadata": {},
   "source": [
    "### Plot the ERP network"
   ]
  },
  {
   "cell_type": "code",
   "execution_count": 20,
   "metadata": {},
   "outputs": [
    {
     "data": {
      "image/png": "[encoded data removed]",
      "text/plain": [
       "<Figure size 792x396 with 1 Axes>"
      ]
     },
     "metadata": {},
     "output_type": "display_data"
    }
   ],
   "source": [
    "# Plot the network\n",
    "plot_network(network, labels, layout_seed=seed, figsize=(11, 5.5),\n",
    "             save_fig=SAVE_FIG, file_name='erp_network' + SAVE_EXT,\n",
    "             directory=figs_dir, save_kwargs={'transparent' : True})"
   ]
  },
  {
   "cell_type": "markdown",
   "metadata": {},
   "source": [
    "## Measures\n",
    "\n",
    "Evaluate some descriptive measures of the ERP network."
   ]
  },
  {
   "cell_type": "code",
   "execution_count": 21,
   "metadata": {},
   "outputs": [
    {
     "name": "stdout",
     "output_type": "stream",
     "text": [
      "The number of possible connections is: 55\n"
     ]
    }
   ],
   "source": [
    "# Check the total number of possible connections\n",
    "n_pos_connections = int((len(network) * len(network) - len(network)) / 2)\n",
    "print('The number of possible connections is: {}'.format(n_pos_connections))"
   ]
  },
  {
   "cell_type": "code",
   "execution_count": 22,
   "metadata": {},
   "outputs": [
    {
     "name": "stdout",
     "output_type": "stream",
     "text": [
      "The number of network edges is: 46\n"
     ]
    }
   ],
   "source": [
    "# Get the number of edges\n",
    "n_edges = len(network.edges)\n",
    "print('The number of network edges is: {}'.format(n_edges))"
   ]
  },
  {
   "cell_type": "code",
   "execution_count": 23,
   "metadata": {},
   "outputs": [
    {
     "name": "stdout",
     "output_type": "stream",
     "text": [
      "The percentage of possible edges: 83.64 %\n"
     ]
    }
   ],
   "source": [
    "edge_proportion = n_edges / n_pos_connections\n",
    "print('The percentage of possible edges: {:2.2f} %'.format(edge_proportion * 100))"
   ]
  },
  {
   "cell_type": "markdown",
   "metadata": {},
   "source": [
    "### Network Center\n",
    "\n",
    "Calculate eccentricity and radius of the network:\n",
    "- the eccentricity of a node is the maximum distance from the node to all other nodes. \n",
    "- the radius is the minimum eccentricity\n",
    "\n",
    "Find the 'center' of the network - the node(s) with eccentricity equal to radius."
   ]
  },
  {
   "cell_type": "code",
   "execution_count": 24,
   "metadata": {},
   "outputs": [
    {
     "name": "stdout",
     "output_type": "stream",
     "text": [
      "Average eccentricity: \t 1.73\n",
      "Network radius: \t 1\n"
     ]
    }
   ],
   "source": [
    "# Check network eccentricity and radius\n",
    "print('Average eccentricity: \\t {:2.2f}'.format(np.mean(list(nx.eccentricity(network).values()))))\n",
    "print('Network radius: \\t', nx.radius(network))"
   ]
  },
  {
   "cell_type": "code",
   "execution_count": 25,
   "metadata": {},
   "outputs": [
    {
     "name": "stdout",
     "output_type": "stream",
     "text": [
      "Network center(s):  N20, P50, P1\n"
     ]
    }
   ],
   "source": [
    "# Check center(s)\n",
    "centers = nx.center(network)\n",
    "print('Network center(s): ', ', '.join([labels[ind] for ind in centers]))"
   ]
  },
  {
   "cell_type": "markdown",
   "metadata": {},
   "source": [
    "### Descriptive Statistics\n",
    "\n",
    "Check some descriptive measures of the network."
   ]
  },
  {
   "cell_type": "code",
   "execution_count": 26,
   "metadata": {},
   "outputs": [
    {
     "name": "stdout",
     "output_type": "stream",
     "text": [
      "Average clustering: \t\t0.89\n",
      "Average node connectivity: \t7.31\n",
      "Average shortest path length: \t1.16\n"
     ]
    }
   ],
   "source": [
    "# Check some descriptive statistics of the network\n",
    "print('Average clustering: \\t\\t{:1.2f}'.format(nx.average_clustering(network)))\n",
    "print('Average node connectivity: \\t{:1.2f}'.format(nx.average_node_connectivity(network)))\n",
    "print('Average shortest path length: \\t{:1.2f}'.format(nx.average_shortest_path_length(network)))"
   ]
  },
  {
   "cell_type": "markdown",
   "metadata": {},
   "source": [
    "### Network Degree\n",
    "\n",
    "The degree is the number of connections each node has to other nodes. "
   ]
  },
  {
   "cell_type": "code",
   "execution_count": 27,
   "metadata": {},
   "outputs": [
    {
     "name": "stdout",
     "output_type": "stream",
     "text": [
      "Average degree: \t\t9.00\n"
     ]
    }
   ],
   "source": [
    "# Check average degree\n",
    "degrees = [val for key, val in network.degree]\n",
    "print('Average degree: \\t\\t{:1.2f}'.format(np.median(degrees)))"
   ]
  },
  {
   "cell_type": "markdown",
   "metadata": {},
   "source": [
    "### Edge Weights\n",
    "\n",
    "Check details and descriptions of the edge weights."
   ]
  },
  {
   "cell_type": "code",
   "execution_count": 28,
   "metadata": {},
   "outputs": [
    {
     "name": "stdout",
     "output_type": "stream",
     "text": [
      "Top association: P1 & P2 - 0.2001\n"
     ]
    }
   ],
   "source": [
    "# Check the strongest weight between two nodes\n",
    "topa = max(dict(network.edges).items(), key=lambda x: x[1]['weight'])\n",
    "print('Top association: {} & {} - {:1.4f}'.format(labels[topa[0][0]], labels[topa[0][1]], topa[1]['weight']))"
   ]
  },
  {
   "cell_type": "code",
   "execution_count": 29,
   "metadata": {},
   "outputs": [
    {
     "name": "stdout",
     "output_type": "stream",
     "text": [
      "Average weight value: 0.0031\n"
     ]
    }
   ],
   "source": [
    "# Collect the distribution of all weights\n",
    "all_weights = []\n",
    "for edge in network.edges:\n",
    "    all_weights.append(network.edges[edge]['weight'])\n",
    "print('Average weight value: {:4.4f}'.format(np.median(all_weights)))"
   ]
  },
  {
   "cell_type": "code",
   "execution_count": 30,
   "metadata": {},
   "outputs": [
    {
     "data": {
      "image/png": "[encoded data removed]",
      "text/plain": [
       "<Figure size 864x360 with 2 Axes>"
      ]
     },
     "metadata": {
      "needs_background": "light"
     },
     "output_type": "display_data"
    }
   ],
   "source": [
    "# Plot the distibution of weights, in linear & log spacing\n",
    "_, axes = plt.subplots(1, 2, figsize=(12, 5))\n",
    "plot_count_hist(all_weights, bins=15, log=False, ax=axes[0])\n",
    "plot_count_hist(all_weights, bins=15, log=True, ax=axes[1])"
   ]
  },
  {
   "cell_type": "code",
   "execution_count": 31,
   "metadata": {},
   "outputs": [],
   "source": [
    "# Collect the set of weights per node\n",
    "node_weights = []\n",
    "for node_ind in network.nodes:\n",
    "    node_edges = [edge for edge in network.edges() if node_ind in edge]\n",
    "    node_weights.append([network[ne[0]][ne[1]]['weight'] for ne in node_edges])"
   ]
  },
  {
   "cell_type": "code",
   "execution_count": 32,
   "metadata": {},
   "outputs": [],
   "source": [
    "# Collect the strongest link per node \n",
    "max_weight = []\n",
    "for ind in labels.keys():\n",
    "    max_ind = max(dict(network[ind]).items(), key=lambda x: x[1]['weight'])[0]\n",
    "    max_weight.append(labels[max_ind])"
   ]
  },
  {
   "cell_type": "markdown",
   "metadata": {},
   "source": [
    "### Measures per node\n",
    "\n",
    "Check measures of interest for each node."
   ]
  },
  {
   "cell_type": "code",
   "execution_count": 33,
   "metadata": {},
   "outputs": [
    {
     "name": "stdout",
     "output_type": "stream",
     "text": [
      "LABEL\t\tDEGREE\t\tAVG_WEIGHT (  MIN  -  MAX  )\t\tTOP-WEIGHT\n",
      "N20  \t\t10\t\t 0.01\t   (0.0004 - 0.0423)\t\tP22  \n",
      "P22  \t\t 8\t\t 0.01\t   (0.0011 - 0.0423)\t\tN20  \n",
      "P27  \t\t 7\t\t 0.01\t   (0.0004 - 0.0309)\t\tN20  \n",
      "P30  \t\t 9\t\t 0.01\t   (0.0002 - 0.0561)\t\tP60  \n",
      "P35  \t\t 8\t\t 0.01\t   (0.0003 - 0.0237)\t\tP60  \n",
      "P50  \t\t10\t\t 0.00\t   (0.0007 - 0.0123)\t\tP30  \n",
      "P60  \t\t 9\t\t 0.01\t   (0.0003 - 0.0561)\t\tP30  \n",
      "N1   \t\t 7\t\t 0.03\t   (0.0002 - 0.0990)\t\tN2   \n",
      "P1   \t\t10\t\t 0.03\t   (0.0004 - 0.2001)\t\tP2   \n",
      "N2   \t\t 5\t\t 0.03\t   (0.0004 - 0.0990)\t\tN1   \n",
      "P2   \t\t 9\t\t 0.03\t   (0.0003 - 0.2001)\t\tP1   \n"
     ]
    }
   ],
   "source": [
    "# Check measures per node\n",
    "print(\"LABEL\\t\\tDEGREE\\t\\tAVG_WEIGHT (  MIN  -  MAX  )\\t\\tTOP-WEIGHT\")\n",
    "for label, degree, weights, top in zip(labels.values(), degrees, node_weights, max_weight):\n",
    "    print('{:5s}\\t\\t{:2d}\\t\\t{:5.2f}\\t   ({:1.4f} - {:3.4f})\\t\\t{:5s}'.format(\\\n",
    "        label, degree, np.mean(weights), min(weights), max(weights), top))"
   ]
  },
  {
   "cell_type": "code",
   "execution_count": null,
   "metadata": {},
   "outputs": [],
   "source": []
  }
 ],
 "metadata": {
  "kernelspec": {
   "display_name": "Python 3 (ipykernel)",
   "language": "python",
   "name": "python3"
  },
  "language_info": {
   "codemirror_mode": {
    "name": "ipython",
    "version": 3
   },
   "file_extension": ".py",
   "mimetype": "text/x-python",
   "name": "python",
   "nbconvert_exporter": "python",
   "pygments_lexer": "ipython3",
   "version": "3.9.12"
  }
 },
 "nbformat": 4,
 "nbformat_minor": 2
}
